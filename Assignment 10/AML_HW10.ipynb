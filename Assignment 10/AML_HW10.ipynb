{
  "nbformat": 4,
  "nbformat_minor": 0,
  "metadata": {
    "colab": {
      "name": "AML_HW10.ipynb",
      "version": "0.3.2",
      "provenance": [],
      "collapsed_sections": [],
      "toc_visible": true
    },
    "language_info": {
      "codemirror_mode": {
        "name": "ipython",
        "version": 3
      },
      "file_extension": ".py",
      "mimetype": "text/x-python",
      "name": "python",
      "nbconvert_exporter": "python",
      "pygments_lexer": "ipython3",
      "version": "3.6.7"
    },
    "kernelspec": {
      "name": "python3",
      "display_name": "Python 3"
    },
    "accelerator": "GPU"
  },
  "cells": [
    {
      "metadata": {
        "colab_type": "text",
        "id": "vUTgGUi4JEft"
      },
      "cell_type": "markdown",
      "source": [
        "# Homework 10 - CIFAR10 Image Classification with PyTorch"
      ]
    },
    {
      "metadata": {
        "colab_type": "text",
        "id": "T5Kx8gJBJEW_"
      },
      "cell_type": "markdown",
      "source": [
        "## About"
      ]
    },
    {
      "metadata": {
        "colab_type": "text",
        "id": "aRAalfd1GITX"
      },
      "cell_type": "markdown",
      "source": [
        "The goal of the homework is to train a convolutional neural network on the standard CIFAR10 image classfication dataset.\n",
        "\n",
        "When solving machine learning tasks using neural networks, one typically starts with a simple network architecture and then improves the network by adding new layers, retraining, adjusting parameters, retraining, etc.  We attempt to illustrate this process below with several architecture improvements.\n"
      ]
    },
    {
      "metadata": {
        "colab_type": "text",
        "id": "OCl5gakxJes-"
      },
      "cell_type": "markdown",
      "source": [
        "## Dev Environment\n",
        "### Working on Google Colab\n",
        "You may choose to work locally or on Google Colaboratory. You have access to free compute through this service.   Colab is recommended since it will be setup correctly and will have access to GPU resources.\n",
        "1. Visit https://colab.research.google.com/drive \n",
        "2. Navigate to the **`Upload`** tab, and upload your `HW10.ipynb`\n",
        "3. Now on the top right corner, under the `Comment` and `Share` options, you should see a `Connect` option. Once you are connected, you will have access to a VM with 12GB RAM, 50 GB disk space and a single GPU. The dropdown menu will allow you to connect to a local runtime as well.\n",
        "\n",
        "**Notes:** \n",
        "* **If you do not have a working setup for Python 3, this is your best bet. It will also save you from heavy installations like `tensorflow` if you don't want to deal with those.**\n",
        "* ***There is a downside*. You can only use this instance for a single 12-hour stretch, after which your data will be deleted, and you would have redownload all your datasets, any libraries not already on the VM, and regenerate your logs**.\n",
        "\n",
        "\n",
        "### Installing PyTorch and Dependencies\n",
        "\n",
        "The instructions for installing and setting up PyTorch can be found at https://pytorch.org/get-started/locally/. Make sure you follow the instructions for your machine. For any of the remaining libraries used in this assignment:\n",
        "* We have provided a `hw8_requirements.txt` file on the homework web page. \n",
        "* Download this file, and in the same directory you can run `pip3 install -r hw8_requirements.txt`\n",
        "​\n",
        "Check that PyTorch installed correctly by running the following:"
      ]
    },
    {
      "metadata": {
        "colab_type": "code",
        "id": "IaJ6BLrAJeCU",
        "colab": {
          "base_uri": "https://localhost:8080/",
          "height": 100
        },
        "outputId": "52a5d403-7ba5-47a9-879f-109c90a96c4d"
      },
      "cell_type": "code",
      "source": [
        "import torch\n",
        "torch.rand(5, 3)"
      ],
      "execution_count": 1,
      "outputs": [
        {
          "output_type": "execute_result",
          "data": {
            "text/plain": [
              "tensor([[0.1072, 0.1348, 0.5591],\n",
              "        [0.0972, 0.1583, 0.9011],\n",
              "        [0.3416, 0.6958, 0.7808],\n",
              "        [0.5589, 0.8751, 0.1891],\n",
              "        [0.6782, 0.3040, 0.4816]])"
            ]
          },
          "metadata": {
            "tags": []
          },
          "execution_count": 1
        }
      ]
    },
    {
      "metadata": {
        "colab_type": "text",
        "id": "nEmmCk1IJiGn"
      },
      "cell_type": "markdown",
      "source": [
        "## Part 0 Imports and Basic Setup  (5 Points)"
      ]
    },
    {
      "metadata": {
        "colab_type": "text",
        "id": "Y3mTddKuXPBU"
      },
      "cell_type": "markdown",
      "source": [
        "First, import the required libraries as follows. The libraries we will use will be the same as those in HW8. "
      ]
    },
    {
      "metadata": {
        "colab_type": "code",
        "id": "UwtDsq3VbrNY",
        "colab": {}
      },
      "cell_type": "code",
      "source": [
        "import numpy as np\n",
        "import torch\n",
        "from torch import nn\n",
        "from torch import optim\n",
        "from torchsummary import summary\n",
        "\n",
        "import matplotlib.pyplot as plt"
      ],
      "execution_count": 0,
      "outputs": []
    },
    {
      "metadata": {
        "colab_type": "text",
        "id": "QWKp_UGlWTyR"
      },
      "cell_type": "markdown",
      "source": [
        "**GPU Support**\n",
        "\n",
        "Training of large network can take a long time. PyTorch supports GPU with just a small amount of effort.\n",
        "\n",
        "When creating our networks, we will call \n",
        "`net.to(device)` to tell the network to train on the GPU, if one is available.  Note, if the network utilizes the GPU, it is important that any tensors we use with it (such as the data) also reside on the CPU.  Thus, a call like `images = images.to(device)` is necessary with any data we want to use with the GPU.\n",
        "\n",
        "Note: If you can't get access to a GPU, don't worry to much.  Since we use very small networks, the difference between CPU and GPU isn't large and in some cases GPU will actually be slower."
      ]
    },
    {
      "metadata": {
        "colab_type": "code",
        "id": "gbGGmnIXYca9",
        "colab": {
          "base_uri": "https://localhost:8080/",
          "height": 33
        },
        "outputId": "ee5b0806-ec70-4603-9ef6-78cb05697ce9"
      },
      "cell_type": "code",
      "source": [
        "import torch.cuda as cuda\n",
        "\n",
        "# Use a GPU, i.e. cuda:0 device if it available.\n",
        "device = torch.device(\"cuda:0\" if cuda.is_available() else \"cpu\")\n",
        "print(device)"
      ],
      "execution_count": 4,
      "outputs": [
        {
          "output_type": "stream",
          "text": [
            "cuda:0\n"
          ],
          "name": "stdout"
        }
      ]
    },
    {
      "metadata": {
        "id": "07RjQbhF1tiK",
        "colab_type": "text"
      },
      "cell_type": "markdown",
      "source": [
        "### Training Code"
      ]
    },
    {
      "metadata": {
        "cellView": "form",
        "colab_type": "code",
        "id": "_DZm8ammPCbL",
        "colab": {}
      },
      "cell_type": "code",
      "source": [
        "import time\n",
        "\n",
        "class Flatten(nn.Module):\n",
        "  \"\"\"NN Module that flattens the incoming tensor.\"\"\"\n",
        "  def forward(self, input):\n",
        "    return input.view(input.size(0), -1)\n",
        "  \n",
        "def train(model, train_loader, test_loader, loss_func, opt, num_epochs=10):\n",
        "  all_training_loss = np.zeros((0,2))\n",
        "  all_training_acc = np.zeros((0,2))\n",
        "  all_test_loss = np.zeros((0,2))\n",
        "  all_test_acc = np.zeros((0,2))\n",
        "  \n",
        "  training_step = 0\n",
        "  training_loss, training_acc = 2.0, 0.0\n",
        "  print_every = 1000\n",
        "  \n",
        "  start = time.clock()\n",
        "  \n",
        "  for i in range(num_epochs):\n",
        "    epoch_start = time.clock() \n",
        "   \n",
        "    model.train()\n",
        "    for images, labels in train_loader:\n",
        "      images, labels = images.to(device), labels.to(device)\n",
        "      opt.zero_grad()\n",
        "\n",
        "      preds = model(images)\n",
        "      loss = loss_func(preds, labels)\n",
        "      loss.backward()\n",
        "      opt.step()\n",
        "      \n",
        "      training_loss += loss.item()\n",
        "      training_acc += (torch.argmax(preds, dim=1)==labels).float().mean()\n",
        "      \n",
        "      if training_step % print_every == 0:\n",
        "        training_loss /= print_every\n",
        "        training_acc /= print_every\n",
        "        \n",
        "        all_training_loss = np.concatenate((all_training_loss, [[training_step, training_loss]]))\n",
        "        all_training_acc = np.concatenate((all_training_acc, [[training_step, training_acc]]))\n",
        "        \n",
        "        print('  Epoch %d @ step %d: Train Loss: %3f, Train Accuracy: %3f' % (\n",
        "            i, training_step, training_loss, training_acc))\n",
        "        training_loss, training_acc = 0.0, 0.0\n",
        "        \n",
        "      training_step+=1\n",
        "\n",
        "    model.eval()\n",
        "    with torch.no_grad():\n",
        "      validation_loss, validation_acc = 0.0, 0.0\n",
        "      count = 0\n",
        "      for images, labels in test_loader:\n",
        "        images, labels = images.to(device), labels.to(device)\n",
        "        output = model(images)\n",
        "        validation_loss+=loss_func(output,labels)\n",
        "        validation_acc+=(torch.argmax(output, dim=1) == labels).float().mean()\n",
        "        count += 1\n",
        "      validation_loss/=count\n",
        "      validation_acc/=count\n",
        "      \n",
        "      all_test_loss = np.concatenate((all_test_loss, [[training_step, validation_loss]]))\n",
        "      all_test_acc = np.concatenate((all_test_acc, [[training_step, validation_acc]]))\n",
        "      \n",
        "      epoch_time = time.clock() - epoch_start\n",
        "      \n",
        "      print('Epoch %d Test Loss: %3f, Test Accuracy: %3f, time: %.1fs' % (\n",
        "          i, validation_loss, validation_acc, epoch_time))\n",
        "      \n",
        "  total_time = time.clock() - start\n",
        "  print('Final Test Loss: %3f, Test Accuracy: %3f, Total time: %.1fs' % (\n",
        "      validation_loss, validation_acc, total_time))\n",
        "\n",
        "  return {'loss': { 'train': all_training_loss, 'test': all_test_loss },\n",
        "          'accuracy': { 'train': all_training_acc, 'test': all_test_acc }}\n",
        "\n",
        "def plot_graphs(model_name, metrics):\n",
        "  for metric, values in metrics.items():\n",
        "    for name, v in values.items():\n",
        "      plt.plot(v[:,0], v[:,1], label=name)\n",
        "    plt.title(f'{metric} for {model_name}')\n",
        "    plt.legend()\n",
        "    plt.xlabel(\"Training Steps\")\n",
        "    plt.ylabel(metric)\n",
        "    plt.show()\n",
        "    "
      ],
      "execution_count": 0,
      "outputs": []
    },
    {
      "metadata": {
        "colab_type": "text",
        "id": "1RupXQbCaXb3"
      },
      "cell_type": "markdown",
      "source": [
        "Load the** CIFA-10** dataset and define the transformations. You may also want to print its structure, size, as well as sample a few images to get a sense of how to design the network. "
      ]
    },
    {
      "metadata": {
        "colab_type": "code",
        "id": "mIJmLIgaZ_d3",
        "colab": {}
      },
      "cell_type": "code",
      "source": [
        "!mkdir hw10_data"
      ],
      "execution_count": 0,
      "outputs": []
    },
    {
      "metadata": {
        "colab_type": "code",
        "id": "aDBbPmPPaQuG",
        "colab": {
          "base_uri": "https://localhost:8080/",
          "height": 87
        },
        "outputId": "bd82662e-0d2a-479a-b08d-671edc5bee7f"
      },
      "cell_type": "code",
      "source": [
        "# Download the data.\n",
        "from torchvision import datasets, transforms\n",
        "\n",
        "transformations = transforms.Compose(\n",
        "    [transforms.ToTensor(),\n",
        "     transforms.Normalize((0.5, 0.5, 0.5), (0.5, 0.5, 0.5))])\n",
        "train_set = datasets.CIFAR10(root='hw10_data/', download=True, transform=transformations)\n",
        "test_set = datasets.CIFAR10(root='hw10_data', download=True, train=False, transform=transformations)"
      ],
      "execution_count": 7,
      "outputs": [
        {
          "output_type": "stream",
          "text": [
            "  0%|          | 0/170498071 [00:00<?, ?it/s]"
          ],
          "name": "stderr"
        },
        {
          "output_type": "stream",
          "text": [
            "Downloading https://www.cs.toronto.edu/~kriz/cifar-10-python.tar.gz to hw10_data/cifar-10-python.tar.gz\n"
          ],
          "name": "stdout"
        },
        {
          "output_type": "stream",
          "text": [
            "170500096it [00:07, 23606943.09it/s]                               \n"
          ],
          "name": "stderr"
        },
        {
          "output_type": "stream",
          "text": [
            "Files already downloaded and verified\n"
          ],
          "name": "stdout"
        }
      ]
    },
    {
      "metadata": {
        "colab_type": "text",
        "id": "dfomsGyJiKz9"
      },
      "cell_type": "markdown",
      "source": [
        "Use `DataLoader` to create a loader for the training set and a loader for the testing set. You can use a `batch_size` of 8 to start, and change it if you wish."
      ]
    },
    {
      "metadata": {
        "colab_type": "code",
        "id": "Ioe04mbSiQiV",
        "colab": {}
      },
      "cell_type": "code",
      "source": [
        "from torch.utils.data import DataLoader\n",
        "\n",
        "batch_size = 8\n",
        "train_loader = torch.utils.data.DataLoader(train_set, batch_size, shuffle=True, num_workers=2)\n",
        "test_loader = torch.utils.data.DataLoader(test_set, batch_size, shuffle=True, num_workers=2)\n",
        "\n",
        "input_shape = np.array(train_set[0][0]).shape\n",
        "input_dim = input_shape[1]*input_shape[2]*input_shape[0]\n"
      ],
      "execution_count": 0,
      "outputs": []
    },
    {
      "metadata": {
        "id": "XWtHPmFPlm5Q",
        "colab_type": "code",
        "colab": {}
      },
      "cell_type": "code",
      "source": [
        "training_epochs = 5"
      ],
      "execution_count": 0,
      "outputs": []
    },
    {
      "metadata": {
        "colab_type": "text",
        "id": "3T2-qkh8frqF"
      },
      "cell_type": "markdown",
      "source": [
        "## Part 1 CIFAR10 with Fully Connected Neural Netowrk (25 Points)\n",
        "\n",
        "As a warm-up, let's begin by training a two-layer fully connected neural network model on ** CIFAR-10** dataset. You may go back to check HW8 for some basics.\n",
        "\n",
        "We will give you this code to use as a baseline to compare against your CNN models."
      ]
    },
    {
      "metadata": {
        "colab_type": "code",
        "id": "Ck1CGpRycRFE",
        "colab": {
          "base_uri": "https://localhost:8080/",
          "height": 652
        },
        "outputId": "dcb436a6-d1d6-4235-ef0c-7687e2243d69"
      },
      "cell_type": "code",
      "source": [
        "class TwoLayerModel(nn.Module):\n",
        "  def __init__(self):\n",
        "    super(TwoLayerModel, self).__init__()\n",
        "    self.net = nn.Sequential(\n",
        "      Flatten(), \n",
        "      nn.Linear(input_dim, 64), \n",
        "      nn.ReLU(), \n",
        "      nn.Linear(64, 10))\n",
        "    \n",
        "  def forward(self, x):\n",
        "    return self.net(x)\n",
        "\n",
        "model = TwoLayerModel().to(device)\n",
        "\n",
        "loss = nn.CrossEntropyLoss()\n",
        "optimizer = optim.RMSprop(model.parameters(), lr=0.001, weight_decay=0.01)\n",
        "\n",
        "# Training epoch should be about 15-20 sec each on GPU.\n",
        "metrics = train(model, train_loader, test_loader, loss, optimizer, training_epochs)"
      ],
      "execution_count": 11,
      "outputs": [
        {
          "output_type": "stream",
          "text": [
            "  Epoch 0 @ step 0: Train Loss: 0.004301, Train Accuracy: 0.000125\n",
            "  Epoch 0 @ step 1000: Train Loss: 1.961467, Train Accuracy: 0.320250\n",
            "  Epoch 0 @ step 2000: Train Loss: 1.817933, Train Accuracy: 0.352000\n",
            "  Epoch 0 @ step 3000: Train Loss: 1.783904, Train Accuracy: 0.357500\n",
            "  Epoch 0 @ step 4000: Train Loss: 1.782436, Train Accuracy: 0.366000\n",
            "  Epoch 0 @ step 5000: Train Loss: 1.758631, Train Accuracy: 0.374250\n",
            "  Epoch 0 @ step 6000: Train Loss: 1.755314, Train Accuracy: 0.368750\n",
            "Epoch 0 Test Loss: 1.738084, Test Accuracy: 0.378600, time: 16.6s\n",
            "  Epoch 1 @ step 7000: Train Loss: 1.742370, Train Accuracy: 0.383625\n",
            "  Epoch 1 @ step 8000: Train Loss: 1.744828, Train Accuracy: 0.374375\n",
            "  Epoch 1 @ step 9000: Train Loss: 1.740492, Train Accuracy: 0.374625\n",
            "  Epoch 1 @ step 10000: Train Loss: 1.761740, Train Accuracy: 0.368875\n",
            "  Epoch 1 @ step 11000: Train Loss: 1.763021, Train Accuracy: 0.372375\n",
            "  Epoch 1 @ step 12000: Train Loss: 1.766127, Train Accuracy: 0.367250\n",
            "Epoch 1 Test Loss: 1.707702, Test Accuracy: 0.386500, time: 17.7s\n",
            "  Epoch 2 @ step 13000: Train Loss: 1.734238, Train Accuracy: 0.381125\n",
            "  Epoch 2 @ step 14000: Train Loss: 1.731529, Train Accuracy: 0.385250\n",
            "  Epoch 2 @ step 15000: Train Loss: 1.742537, Train Accuracy: 0.377000\n",
            "  Epoch 2 @ step 16000: Train Loss: 1.744827, Train Accuracy: 0.376875\n",
            "  Epoch 2 @ step 17000: Train Loss: 1.752259, Train Accuracy: 0.373875\n",
            "  Epoch 2 @ step 18000: Train Loss: 1.749034, Train Accuracy: 0.377500\n",
            "Epoch 2 Test Loss: 1.715050, Test Accuracy: 0.387000, time: 16.8s\n",
            "  Epoch 3 @ step 19000: Train Loss: 1.750366, Train Accuracy: 0.375375\n",
            "  Epoch 3 @ step 20000: Train Loss: 1.729826, Train Accuracy: 0.377000\n",
            "  Epoch 3 @ step 21000: Train Loss: 1.742542, Train Accuracy: 0.380625\n",
            "  Epoch 3 @ step 22000: Train Loss: 1.756855, Train Accuracy: 0.379625\n",
            "  Epoch 3 @ step 23000: Train Loss: 1.722355, Train Accuracy: 0.387375\n",
            "  Epoch 3 @ step 24000: Train Loss: 1.742119, Train Accuracy: 0.381250\n",
            "Epoch 3 Test Loss: 1.745635, Test Accuracy: 0.364600, time: 16.8s\n",
            "  Epoch 4 @ step 25000: Train Loss: 1.741403, Train Accuracy: 0.384250\n",
            "  Epoch 4 @ step 26000: Train Loss: 1.713908, Train Accuracy: 0.387875\n",
            "  Epoch 4 @ step 27000: Train Loss: 1.745909, Train Accuracy: 0.376625\n",
            "  Epoch 4 @ step 28000: Train Loss: 1.737115, Train Accuracy: 0.383875\n",
            "  Epoch 4 @ step 29000: Train Loss: 1.731377, Train Accuracy: 0.381875\n",
            "  Epoch 4 @ step 30000: Train Loss: 1.747936, Train Accuracy: 0.379500\n",
            "  Epoch 4 @ step 31000: Train Loss: 1.748552, Train Accuracy: 0.376625\n",
            "Epoch 4 Test Loss: 1.705372, Test Accuracy: 0.388700, time: 17.7s\n",
            "Final Test Loss: 1.705372, Test Accuracy: 0.388700, Total time: 85.6s\n"
          ],
          "name": "stdout"
        }
      ]
    },
    {
      "metadata": {
        "colab_type": "text",
        "id": "qjbncuMnKpf7"
      },
      "cell_type": "markdown",
      "source": [
        "**Plot the model results**\n",
        "\n",
        "Normally we would want to use Tensorboard for looking at metrics.  However, if colab reset while we are working, we might lose our logs and therefore our metrics.  Let's just plot some graphs that will survive across colab instances."
      ]
    },
    {
      "metadata": {
        "colab_type": "code",
        "id": "CuVL9MJ_D92h",
        "colab": {
          "base_uri": "https://localhost:8080/",
          "height": 572
        },
        "outputId": "ad7350c9-94b7-4ce9-da49-dd486ab3cdc2"
      },
      "cell_type": "code",
      "source": [
        "plot_graphs(\"TwoLayerModel\", metrics)"
      ],
      "execution_count": 12,
      "outputs": [
        {
          "output_type": "display_data",
          "data": {
            "image/png": "[encoded data removed]",
            "text/plain": [
              "<Figure size 432x288 with 1 Axes>"
            ]
          },
          "metadata": {
            "tags": []
          }
        },
        {
          "output_type": "display_data",
          "data": {
            "image/png": "[encoded data removed]",
            "text/plain": [
              "<Figure size 432x288 with 1 Axes>"
            ]
          },
          "metadata": {
            "tags": []
          }
        }
      ]
    },
    {
      "metadata": {
        "colab_type": "text",
        "id": "4_xi8bkkfsM7"
      },
      "cell_type": "markdown",
      "source": [
        "## Part 2 Convolutional Neural Network (CNN) (35 Points)\n",
        "\n",
        "Now, let's design a convolution neural netwrok!\n",
        "\n",
        "Build a simple CNN model, inserting 2 CNN layers in from of our 2 layer fully connect model from above:\n",
        "\n",
        "1. A convolution with\t3x3 filter, 16 output channels, stride = 1, padding=1\n",
        "2. A ReLU activation\n",
        "2. A Max-Pooling layer with 2x2 window\n",
        "3. A convolution,\t3x3 filter, 16 output channels, stride = 1, padding=1\n",
        "4. A ReLU activation\n",
        "4. Flatten layer\n",
        "5. Fully connected linear layer with output size 64\n",
        "6. ReLU\n",
        "7. Fully connected linear layer, with output size 10\n",
        "\n",
        "You will have to figure out the input sizes of the first fully connnected layer based on the previous layer sizes. Note that you also need to fill those in the report section (see report section in the notebook for details) "
      ]
    },
    {
      "metadata": {
        "colab_type": "code",
        "id": "tLXjjywngO7g",
        "colab": {
          "base_uri": "https://localhost:8080/",
          "height": 1960
        },
        "outputId": "8fb7320e-5d2c-467e-ca88-48884b463c55"
      },
      "cell_type": "code",
      "source": [
        "layer1_in_channels = 3\n",
        "layer1_output_channels = 16\n",
        "\n",
        "layer2_in_channels = layer1_output_channels\n",
        "layer2_output_channels = 16\n",
        "\n",
        "layer3_out = 64\n",
        "kernel_size = 3\n",
        "nun_labels = 10\n",
        "\n",
        "padding_size=1\n",
        "stride_size=1\n",
        "\n",
        "class ConvModel(nn.Module):\n",
        "  # Your Code Here\n",
        "  def __init__(self):\n",
        "        super().__init__()\n",
        "        self.layer1 = nn.Sequential(\n",
        "            nn.Conv2d(layer1_in_channels, layer1_output_channels, kernel_size, stride=stride_size, padding=padding_size),\n",
        "            nn.ReLU(),\n",
        "            nn.MaxPool2d(2))\n",
        "        \n",
        "        self.layer2 = nn.Sequential(\n",
        "            nn.Conv2d(layer2_in_channels, layer2_output_channels, kernel_size, stride=stride_size, padding=padding_size),\n",
        "            nn.ReLU(),\n",
        "            Flatten())\n",
        "                      \n",
        "        \n",
        "        self.layer3 = nn.Sequential(\n",
        "            nn.Linear(4096, layer3_out),\n",
        "            nn.ReLU())\n",
        "        \n",
        "        self.fc = nn.Linear(layer3_out, nun_labels)\n",
        "        \n",
        "        \n",
        "  def forward(self, x):\n",
        "      out = self.layer1(x)\n",
        "      out = self.layer2(out)\n",
        "      out = self.layer3(out)\n",
        "      out = out.reshape(out.size(0), -1)\n",
        "      return self.fc(out)\n",
        "\n",
        "        \n",
        "      \n",
        "print(ConvModel())\n",
        "\n",
        "model = ConvModel().to(device)\n",
        "\n",
        "summary(model, (3,32,32))\n",
        "\n",
        "loss = nn.CrossEntropyLoss()\n",
        "optimizer = optim.RMSprop(model.parameters(), lr=0.001, weight_decay=0.01)\n",
        "\n",
        "metrics = train(model, train_loader, test_loader, loss, optimizer, training_epochs)\n"
      ],
      "execution_count": 21,
      "outputs": [
        {
          "output_type": "stream",
          "text": [
            "ConvModel(\n",
            "  (layer1): Sequential(\n",
            "    (0): Conv2d(3, 16, kernel_size=(3, 3), stride=(1, 1), padding=(1, 1))\n",
            "    (1): ReLU()\n",
            "    (2): MaxPool2d(kernel_size=2, stride=2, padding=0, dilation=1, ceil_mode=False)\n",
            "  )\n",
            "  (layer2): Sequential(\n",
            "    (0): Conv2d(16, 16, kernel_size=(3, 3), stride=(1, 1), padding=(1, 1))\n",
            "    (1): ReLU()\n",
            "    (2): Flatten()\n",
            "  )\n",
            "  (layer3): Sequential(\n",
            "    (0): Linear(in_features=4096, out_features=64, bias=True)\n",
            "    (1): ReLU()\n",
            "  )\n",
            "  (fc): Linear(in_features=64, out_features=10, bias=True)\n",
            ")\n",
            "----------------------------------------------------------------\n",
            "        Layer (type)               Output Shape         Param #\n",
            "================================================================\n",
            "            Conv2d-1           [-1, 16, 32, 32]             448\n",
            "              ReLU-2           [-1, 16, 32, 32]               0\n",
            "         MaxPool2d-3           [-1, 16, 16, 16]               0\n",
            "            Conv2d-4           [-1, 16, 16, 16]           2,320\n",
            "              ReLU-5           [-1, 16, 16, 16]               0\n",
            "           Flatten-6                 [-1, 4096]               0\n",
            "            Linear-7                   [-1, 64]         262,208\n",
            "              ReLU-8                   [-1, 64]               0\n",
            "            Linear-9                   [-1, 10]             650\n",
            "================================================================\n",
            "Total params: 265,626\n",
            "Trainable params: 265,626\n",
            "Non-trainable params: 0\n",
            "----------------------------------------------------------------\n",
            "Input size (MB): 0.01\n",
            "Forward/backward pass size (MB): 0.38\n",
            "Params size (MB): 1.01\n",
            "Estimated Total Size (MB): 1.40\n",
            "----------------------------------------------------------------\n"
          ],
          "name": "stdout"
        },
        {
          "output_type": "stream",
          "text": [
            "Exception ignored in: <bound method _DataLoaderIter.__del__ of <torch.utils.data.dataloader._DataLoaderIter object at 0x7fe6d61ffeb8>>\n",
            "Traceback (most recent call last):\n",
            "  File \"/usr/local/lib/python3.6/dist-packages/torch/utils/data/dataloader.py\", line 717, in __del__\n",
            "Traceback (most recent call last):\n",
            "    self._shutdown_workers()\n",
            "Exception ignored in: <bound method _DataLoaderIter.__del__ of <torch.utils.data.dataloader._DataLoaderIter object at 0x7fe6d61ffeb8>>\n",
            "Traceback (most recent call last):\n",
            "  File \"/usr/local/lib/python3.6/dist-packages/torch/utils/data/dataloader.py\", line 713, in _shutdown_workers\n",
            "  File \"/usr/lib/python3.6/multiprocessing/queues.py\", line 240, in _feed\n",
            "    send_bytes(obj)\n",
            "    w.join()\n",
            "  File \"/usr/lib/python3.6/multiprocessing/process.py\", line 122, in join\n",
            "  File \"/usr/lib/python3.6/multiprocessing/connection.py\", line 200, in send_bytes\n",
            "    self._send_bytes(m[offset:offset + size])\n",
            "    assert self._parent_pid == os.getpid(), 'can only join a child process'\n",
            "  File \"/usr/lib/python3.6/multiprocessing/connection.py\", line 404, in _send_bytes\n",
            "    self._send(header + buf)\n",
            "AssertionError: can only join a child process\n",
            "  File \"/usr/lib/python3.6/multiprocessing/queues.py\", line 240, in _feed\n",
            "    send_bytes(obj)\n",
            "Traceback (most recent call last):\n",
            "  File \"/usr/lib/python3.6/multiprocessing/connection.py\", line 368, in _send\n",
            "    n = write(self._handle, buf)\n",
            "BrokenPipeError: [Errno 32] Broken pipe\n",
            "  File \"/usr/local/lib/python3.6/dist-packages/torch/utils/data/dataloader.py\", line 717, in __del__\n",
            "  File \"/usr/lib/python3.6/multiprocessing/connection.py\", line 200, in send_bytes\n",
            "    self._send_bytes(m[offset:offset + size])\n",
            "  File \"/usr/lib/python3.6/multiprocessing/connection.py\", line 404, in _send_bytes\n",
            "    self._send(header + buf)\n",
            "    self._shutdown_workers()\n",
            "  File \"/usr/local/lib/python3.6/dist-packages/torch/utils/data/dataloader.py\", line 713, in _shutdown_workers\n",
            "    w.join()\n",
            "  File \"/usr/lib/python3.6/multiprocessing/connection.py\", line 368, in _send\n",
            "    n = write(self._handle, buf)\n",
            "  File \"/usr/lib/python3.6/multiprocessing/process.py\", line 122, in join\n",
            "    assert self._parent_pid == os.getpid(), 'can only join a child process'\n",
            "BrokenPipeError: [Errno 32] Broken pipe\n",
            "AssertionError: can only join a child process\n"
          ],
          "name": "stderr"
        },
        {
          "output_type": "stream",
          "text": [
            "  Epoch 0 @ step 0: Train Loss: 0.004312, Train Accuracy: 0.000125\n",
            "  Epoch 0 @ step 1000: Train Loss: 1.829924, Train Accuracy: 0.330750\n",
            "  Epoch 0 @ step 2000: Train Loss: 1.578606, Train Accuracy: 0.424125\n",
            "  Epoch 0 @ step 3000: Train Loss: 1.462201, Train Accuracy: 0.467750\n",
            "  Epoch 0 @ step 4000: Train Loss: 1.425803, Train Accuracy: 0.480375\n",
            "  Epoch 0 @ step 5000: Train Loss: 1.403327, Train Accuracy: 0.491625\n",
            "  Epoch 0 @ step 6000: Train Loss: 1.373140, Train Accuracy: 0.503500\n",
            "Epoch 0 Test Loss: 1.330056, Test Accuracy: 0.514400, time: 24.0s\n",
            "  Epoch 1 @ step 7000: Train Loss: 1.347158, Train Accuracy: 0.515750\n",
            "  Epoch 1 @ step 8000: Train Loss: 1.320607, Train Accuracy: 0.523875\n",
            "  Epoch 1 @ step 9000: Train Loss: 1.336131, Train Accuracy: 0.525000\n",
            "  Epoch 1 @ step 10000: Train Loss: 1.330772, Train Accuracy: 0.519625\n",
            "  Epoch 1 @ step 11000: Train Loss: 1.318692, Train Accuracy: 0.520000\n",
            "  Epoch 1 @ step 12000: Train Loss: 1.314454, Train Accuracy: 0.530625\n",
            "Epoch 1 Test Loss: 1.301947, Test Accuracy: 0.529300, time: 25.8s\n",
            "  Epoch 2 @ step 13000: Train Loss: 1.311699, Train Accuracy: 0.526875\n",
            "  Epoch 2 @ step 14000: Train Loss: 1.295339, Train Accuracy: 0.533750\n",
            "  Epoch 2 @ step 15000: Train Loss: 1.315453, Train Accuracy: 0.521750\n",
            "  Epoch 2 @ step 16000: Train Loss: 1.299835, Train Accuracy: 0.530125\n",
            "  Epoch 2 @ step 17000: Train Loss: 1.281585, Train Accuracy: 0.534250\n",
            "  Epoch 2 @ step 18000: Train Loss: 1.263026, Train Accuracy: 0.544000\n",
            "Epoch 2 Test Loss: 1.263608, Test Accuracy: 0.542600, time: 25.2s\n",
            "  Epoch 3 @ step 19000: Train Loss: 1.274777, Train Accuracy: 0.536375\n",
            "  Epoch 3 @ step 20000: Train Loss: 1.266830, Train Accuracy: 0.538375\n",
            "  Epoch 3 @ step 21000: Train Loss: 1.269938, Train Accuracy: 0.543250\n",
            "  Epoch 3 @ step 22000: Train Loss: 1.272082, Train Accuracy: 0.549500\n",
            "  Epoch 3 @ step 23000: Train Loss: 1.268651, Train Accuracy: 0.545250\n",
            "  Epoch 3 @ step 24000: Train Loss: 1.252538, Train Accuracy: 0.549875\n",
            "Epoch 3 Test Loss: 1.221239, Test Accuracy: 0.557800, time: 25.5s\n",
            "  Epoch 4 @ step 25000: Train Loss: 1.266355, Train Accuracy: 0.546500\n",
            "  Epoch 4 @ step 26000: Train Loss: 1.245727, Train Accuracy: 0.549875\n",
            "  Epoch 4 @ step 27000: Train Loss: 1.229153, Train Accuracy: 0.553125\n",
            "  Epoch 4 @ step 28000: Train Loss: 1.269282, Train Accuracy: 0.536500\n",
            "  Epoch 4 @ step 29000: Train Loss: 1.250336, Train Accuracy: 0.554625\n",
            "  Epoch 4 @ step 30000: Train Loss: 1.239578, Train Accuracy: 0.556125\n",
            "  Epoch 4 @ step 31000: Train Loss: 1.264013, Train Accuracy: 0.547250\n",
            "Epoch 4 Test Loss: 1.252100, Test Accuracy: 0.548100, time: 27.9s\n",
            "Final Test Loss: 1.252100, Test Accuracy: 0.548100, Total time: 128.4s\n"
          ],
          "name": "stdout"
        }
      ]
    },
    {
      "metadata": {
        "colab_type": "code",
        "id": "8BGTJw-TPTfh",
        "colab": {
          "base_uri": "https://localhost:8080/",
          "height": 572
        },
        "outputId": "e7858c77-78f7-48ad-8bf7-3010c0d67efd"
      },
      "cell_type": "code",
      "source": [
        "plot_graphs(\"ConvModel\", metrics)"
      ],
      "execution_count": 22,
      "outputs": [
        {
          "output_type": "display_data",
          "data": {
            "image/png": "[encoded data removed]",
            "text/plain": [
              "<Figure size 432x288 with 1 Axes>"
            ]
          },
          "metadata": {
            "tags": []
          }
        },
        {
          "output_type": "display_data",
          "data": {
            "image/png": "[encoded data removed]",
            "text/plain": [
              "<Figure size 432x288 with 1 Axes>"
            ]
          },
          "metadata": {
            "tags": []
          }
        }
      ]
    },
    {
      "metadata": {
        "colab_type": "text",
        "id": "oFAc6IORmzCJ"
      },
      "cell_type": "markdown",
      "source": [
        "Do you notice the improvement over the accuracy compared to that in Part 1?"
      ]
    },
    {
      "metadata": {
        "colab_type": "text",
        "id": "hXpJgsjhftDP"
      },
      "cell_type": "markdown",
      "source": [
        "## Part 3 Open Design Competition (35 Points + 10 bonus points)\n",
        "\n",
        "Try to beat the previous models by adding additional layers, changing parameters, etc.  You should add at least one layer.\n",
        "\n",
        "Possible changes include:\n",
        "*   Dropout\n",
        "*   Batch Normalization\n",
        "*   More layers\n",
        "*   Residual Connections (harder)\n",
        "*   Change layer size\n",
        "*   Pooling layers, stride\n",
        "*   Different optimizer\n",
        "*   Train for longer\n",
        "\n",
        "Once you have a model you think is great, evaluate it against our hidden test data (see hidden_loader above) and upload the results to the leader board on gradescope.  **The top 3 scorers will get a bonus 10 points.**\n",
        "\n",
        "You can steal model structures found on the internet if you want.  The only constraint is that **you must train the model from scratch**.\n"
      ]
    },
    {
      "metadata": {
        "colab_type": "code",
        "id": "QZFkuraiZOaT",
        "colab": {
          "base_uri": "https://localhost:8080/",
          "height": 1740
        },
        "outputId": "686fbed8-86ef-4bac-b5d2-942933bcfb66"
      },
      "cell_type": "code",
      "source": [
        "# You Awesome Super Best model code here\n",
        "layer1_in_channels = 3\n",
        "layer1_output_channels = 128\n",
        "\n",
        "layer2_in_channels = layer1_output_channels\n",
        "layer2_output_channels = 128\n",
        "\n",
        "layer3_in_channels = layer2_output_channels\n",
        "layer3_output_channels =128\n",
        "\n",
        "layer4_in_channels = layer3_output_channels\n",
        "layer4_output_channels = 128\n",
        "\n",
        "kernel_size = 3\n",
        "nun_labels = 10\n",
        "\n",
        "\n",
        "class AwesomeModel(nn.Module):\n",
        "  def __init__(self):\n",
        "        super().__init__()\n",
        "        self.layer1 = nn.Sequential(\n",
        "            nn.Conv2d(layer1_in_channels, layer1_output_channels, kernel_size, padding=1),\n",
        "            nn.ReLU(),\n",
        "            #nn.Conv2d(layer1_output_channels, layer1_output_channels, kernel_size, padding=1),\n",
        "            #nn.ReLU(),\n",
        "            nn.MaxPool2d(2))\n",
        "        \n",
        "        self.layer2 = nn.Sequential(\n",
        "            nn.Conv2d(layer2_in_channels, layer2_output_channels, kernel_size, padding=1),\n",
        "            nn.ReLU(),\n",
        "            #nn.Conv2d(layer2_output_channels, layer2_output_channels, kernel_size, padding=1),\n",
        "            #nn.ReLU(),\n",
        "            #nn.Conv2d(layer2_output_channels, layer2_output_channels, kernel_size, padding=1),\n",
        "            #nn.ReLU(),\n",
        "            nn.MaxPool2d(2))\n",
        "        \n",
        "        self.layer3 = nn.Sequential(\n",
        "            nn.Conv2d(layer3_in_channels, layer3_output_channels, kernel_size),\n",
        "            nn.BatchNorm2d(layer3_output_channels),\n",
        "            nn.ReLU(),\n",
        "            nn.MaxPool2d(2))\n",
        "        \n",
        "        self.dropout = nn.Dropout2d(p=0.2)\n",
        "        \n",
        "        self.layer4 = nn.Sequential(\n",
        "            nn.Conv2d(layer4_in_channels, layer4_output_channels, kernel_size, padding=1),\n",
        "            nn.BatchNorm2d(layer4_output_channels),\n",
        "            nn.ReLU(),\n",
        "            nn.MaxPool2d(2))\n",
        "        \n",
        "        self.fc = nn.Linear(layer4_output_channels, nun_labels)\n",
        "        \n",
        "  def forward(self, x):\n",
        "      out = self.layer1(x)\n",
        "      \n",
        "      out = self.layer2(out)\n",
        "      \n",
        "      out = self.layer3(out)\n",
        "      \n",
        "      out = self.dropout(out)\n",
        "  \n",
        "      out = self.layer4(out)\n",
        "  \n",
        "      out = out.reshape(out.size(0), -1)\n",
        "      return self.fc(out)\n",
        "\n",
        "\n",
        "        \n",
        "      \n",
        "\n",
        "model = AwesomeModel().to(device)\n",
        "\n",
        "loss = nn.CrossEntropyLoss()\n",
        "# optimizer = optim.RMSprop(model.parameters(), lr=0.001, weight_decay=0.01)\n",
        "optimizer = optim.SGD(model.parameters(), lr=0.001, momentum=0.9)\n",
        "\n",
        "summary(model, (3,32,32))\n",
        "metrics = train(model, train_loader, test_loader, loss, optimizer, 10)"
      ],
      "execution_count": 30,
      "outputs": [
        {
          "output_type": "stream",
          "text": [
            "----------------------------------------------------------------\n",
            "        Layer (type)               Output Shape         Param #\n",
            "================================================================\n",
            "            Conv2d-1          [-1, 128, 32, 32]           3,584\n",
            "              ReLU-2          [-1, 128, 32, 32]               0\n",
            "         MaxPool2d-3          [-1, 128, 16, 16]               0\n",
            "            Conv2d-4          [-1, 128, 16, 16]         147,584\n",
            "              ReLU-5          [-1, 128, 16, 16]               0\n",
            "         MaxPool2d-6            [-1, 128, 8, 8]               0\n",
            "            Conv2d-7            [-1, 128, 6, 6]         147,584\n",
            "       BatchNorm2d-8            [-1, 128, 6, 6]             256\n",
            "              ReLU-9            [-1, 128, 6, 6]               0\n",
            "        MaxPool2d-10            [-1, 128, 3, 3]               0\n",
            "        Dropout2d-11            [-1, 128, 3, 3]               0\n",
            "           Conv2d-12            [-1, 128, 3, 3]         147,584\n",
            "      BatchNorm2d-13            [-1, 128, 3, 3]             256\n",
            "             ReLU-14            [-1, 128, 3, 3]               0\n",
            "        MaxPool2d-15            [-1, 128, 1, 1]               0\n",
            "           Linear-16                   [-1, 10]           1,290\n",
            "================================================================\n",
            "Total params: 448,138\n",
            "Trainable params: 448,138\n",
            "Non-trainable params: 0\n",
            "----------------------------------------------------------------\n",
            "Input size (MB): 0.01\n",
            "Forward/backward pass size (MB): 2.96\n",
            "Params size (MB): 1.71\n",
            "Estimated Total Size (MB): 4.68\n",
            "----------------------------------------------------------------\n",
            "  Epoch 0 @ step 0: Train Loss: 0.004442, Train Accuracy: 0.000125\n",
            "  Epoch 0 @ step 1000: Train Loss: 1.760698, Train Accuracy: 0.350500\n",
            "  Epoch 0 @ step 2000: Train Loss: 1.466611, Train Accuracy: 0.469375\n",
            "  Epoch 0 @ step 3000: Train Loss: 1.319344, Train Accuracy: 0.527750\n",
            "  Epoch 0 @ step 4000: Train Loss: 1.225576, Train Accuracy: 0.568000\n",
            "  Epoch 0 @ step 5000: Train Loss: 1.152384, Train Accuracy: 0.594125\n",
            "  Epoch 0 @ step 6000: Train Loss: 1.083020, Train Accuracy: 0.613125\n",
            "Epoch 0 Test Loss: 0.952849, Test Accuracy: 0.659100, time: 31.8s\n",
            "  Epoch 1 @ step 7000: Train Loss: 1.030204, Train Accuracy: 0.640500\n",
            "  Epoch 1 @ step 8000: Train Loss: 0.981465, Train Accuracy: 0.657250\n",
            "  Epoch 1 @ step 9000: Train Loss: 0.962273, Train Accuracy: 0.666125\n",
            "  Epoch 1 @ step 10000: Train Loss: 0.941776, Train Accuracy: 0.672875\n",
            "  Epoch 1 @ step 11000: Train Loss: 0.909894, Train Accuracy: 0.685375\n",
            "  Epoch 1 @ step 12000: Train Loss: 0.915352, Train Accuracy: 0.677375\n",
            "Epoch 1 Test Loss: 0.831166, Test Accuracy: 0.716500, time: 33.0s\n",
            "  Epoch 2 @ step 13000: Train Loss: 0.845838, Train Accuracy: 0.705250\n",
            "  Epoch 2 @ step 14000: Train Loss: 0.827135, Train Accuracy: 0.712000\n",
            "  Epoch 2 @ step 15000: Train Loss: 0.807027, Train Accuracy: 0.723375\n",
            "  Epoch 2 @ step 16000: Train Loss: 0.808400, Train Accuracy: 0.723375\n",
            "  Epoch 2 @ step 17000: Train Loss: 0.791600, Train Accuracy: 0.723875\n",
            "  Epoch 2 @ step 18000: Train Loss: 0.798014, Train Accuracy: 0.722125\n",
            "Epoch 2 Test Loss: 0.754116, Test Accuracy: 0.739400, time: 32.4s\n",
            "  Epoch 3 @ step 19000: Train Loss: 0.749551, Train Accuracy: 0.741000\n",
            "  Epoch 3 @ step 20000: Train Loss: 0.698005, Train Accuracy: 0.754625\n",
            "  Epoch 3 @ step 21000: Train Loss: 0.717129, Train Accuracy: 0.745750\n",
            "  Epoch 3 @ step 22000: Train Loss: 0.699480, Train Accuracy: 0.757875\n",
            "  Epoch 3 @ step 23000: Train Loss: 0.703705, Train Accuracy: 0.753625\n",
            "  Epoch 3 @ step 24000: Train Loss: 0.702818, Train Accuracy: 0.757000\n",
            "Epoch 3 Test Loss: 0.686003, Test Accuracy: 0.763200, time: 32.4s\n",
            "  Epoch 4 @ step 25000: Train Loss: 0.697754, Train Accuracy: 0.757625\n",
            "  Epoch 4 @ step 26000: Train Loss: 0.613823, Train Accuracy: 0.783250\n",
            "  Epoch 4 @ step 27000: Train Loss: 0.607760, Train Accuracy: 0.787625\n",
            "  Epoch 4 @ step 28000: Train Loss: 0.629644, Train Accuracy: 0.783375\n",
            "  Epoch 4 @ step 29000: Train Loss: 0.618953, Train Accuracy: 0.781750\n",
            "  Epoch 4 @ step 30000: Train Loss: 0.626694, Train Accuracy: 0.780875\n",
            "  Epoch 4 @ step 31000: Train Loss: 0.635129, Train Accuracy: 0.774750\n",
            "Epoch 4 Test Loss: 0.673252, Test Accuracy: 0.767200, time: 32.3s\n",
            "  Epoch 5 @ step 32000: Train Loss: 0.559631, Train Accuracy: 0.806500\n",
            "  Epoch 5 @ step 33000: Train Loss: 0.550793, Train Accuracy: 0.810750\n",
            "  Epoch 5 @ step 34000: Train Loss: 0.548881, Train Accuracy: 0.808500\n",
            "  Epoch 5 @ step 35000: Train Loss: 0.565127, Train Accuracy: 0.801000\n",
            "  Epoch 5 @ step 36000: Train Loss: 0.557797, Train Accuracy: 0.806125\n",
            "  Epoch 5 @ step 37000: Train Loss: 0.577192, Train Accuracy: 0.798625\n",
            "Epoch 5 Test Loss: 0.643921, Test Accuracy: 0.780900, time: 32.1s\n",
            "  Epoch 6 @ step 38000: Train Loss: 0.496895, Train Accuracy: 0.821250\n",
            "  Epoch 6 @ step 39000: Train Loss: 0.488642, Train Accuracy: 0.836000\n",
            "  Epoch 6 @ step 40000: Train Loss: 0.510050, Train Accuracy: 0.820750\n",
            "  Epoch 6 @ step 41000: Train Loss: 0.512778, Train Accuracy: 0.821250\n",
            "  Epoch 6 @ step 42000: Train Loss: 0.528616, Train Accuracy: 0.816250\n",
            "  Epoch 6 @ step 43000: Train Loss: 0.531179, Train Accuracy: 0.812250\n",
            "Epoch 6 Test Loss: 0.603606, Test Accuracy: 0.796800, time: 32.8s\n",
            "  Epoch 7 @ step 44000: Train Loss: 0.496106, Train Accuracy: 0.827375\n",
            "  Epoch 7 @ step 45000: Train Loss: 0.443340, Train Accuracy: 0.844500\n",
            "  Epoch 7 @ step 46000: Train Loss: 0.431364, Train Accuracy: 0.850875\n",
            "  Epoch 7 @ step 47000: Train Loss: 0.464086, Train Accuracy: 0.837125\n",
            "  Epoch 7 @ step 48000: Train Loss: 0.470960, Train Accuracy: 0.836750\n",
            "  Epoch 7 @ step 49000: Train Loss: 0.476336, Train Accuracy: 0.832500\n",
            "Epoch 7 Test Loss: 0.616699, Test Accuracy: 0.798900, time: 32.6s\n",
            "  Epoch 8 @ step 50000: Train Loss: 0.453773, Train Accuracy: 0.838500\n",
            "  Epoch 8 @ step 51000: Train Loss: 0.391436, Train Accuracy: 0.860125\n",
            "  Epoch 8 @ step 52000: Train Loss: 0.423008, Train Accuracy: 0.849625\n",
            "  Epoch 8 @ step 53000: Train Loss: 0.406135, Train Accuracy: 0.859375\n",
            "  Epoch 8 @ step 54000: Train Loss: 0.401967, Train Accuracy: 0.858375\n",
            "  Epoch 8 @ step 55000: Train Loss: 0.436225, Train Accuracy: 0.847875\n",
            "  Epoch 8 @ step 56000: Train Loss: 0.450351, Train Accuracy: 0.841125\n",
            "Epoch 8 Test Loss: 0.615750, Test Accuracy: 0.796400, time: 33.0s\n",
            "  Epoch 9 @ step 57000: Train Loss: 0.373818, Train Accuracy: 0.871375\n",
            "  Epoch 9 @ step 58000: Train Loss: 0.351425, Train Accuracy: 0.880000\n",
            "  Epoch 9 @ step 59000: Train Loss: 0.362601, Train Accuracy: 0.873000\n",
            "  Epoch 9 @ step 60000: Train Loss: 0.374471, Train Accuracy: 0.869000\n",
            "  Epoch 9 @ step 61000: Train Loss: 0.389784, Train Accuracy: 0.860000\n",
            "  Epoch 9 @ step 62000: Train Loss: 0.396546, Train Accuracy: 0.859875\n",
            "Epoch 9 Test Loss: 0.624347, Test Accuracy: 0.792600, time: 31.9s\n",
            "Final Test Loss: 0.624347, Test Accuracy: 0.792600, Total time: 324.5s\n"
          ],
          "name": "stdout"
        }
      ]
    },
    {
      "metadata": {
        "colab_type": "text",
        "id": "xbx5REUdc-Xs"
      },
      "cell_type": "markdown",
      "source": [
        "**What changes did you make to improve your model?**"
      ]
    },
    {
      "metadata": {
        "colab_type": "code",
        "id": "uItu0w4fZTuG",
        "colab": {
          "base_uri": "https://localhost:8080/",
          "height": 572
        },
        "outputId": "4c31664e-a5d2-4ce7-a556-b277f03a0b47"
      },
      "cell_type": "code",
      "source": [
        "plot_graphs(\"AwesomeModel\", metrics)"
      ],
      "execution_count": 31,
      "outputs": [
        {
          "output_type": "display_data",
          "data": {
            "image/png": "[encoded data removed]",
            "text/plain": [
              "<Figure size 432x288 with 1 Axes>"
            ]
          },
          "metadata": {
            "tags": []
          }
        },
        {
          "output_type": "display_data",
          "data": {
            "image/png": "[encoded data removed]",
            "text/plain": [
              "<Figure size 432x288 with 1 Axes>"
            ]
          },
          "metadata": {
            "tags": []
          }
        }
      ]
    },
    {
      "metadata": {
        "colab_type": "text",
        "id": "rWlP2WsodgK0"
      },
      "cell_type": "markdown",
      "source": [
        "After you get a nice model, download the test_file.zip and unzip it to get test_file.pt. In colab, you can explore your files from the left side bar. You can also download the files to your machine from there."
      ]
    },
    {
      "metadata": {
        "colab_type": "code",
        "id": "Z6UZInUCdfQ1",
        "colab": {
          "base_uri": "https://localhost:8080/",
          "height": 301
        },
        "outputId": "d076891a-c514-42ed-d75b-956fe3132f3f"
      },
      "cell_type": "code",
      "source": [
        "!wget http://courses.engr.illinois.edu/cs498aml/sp2019/homeworks/test_file.zip\n",
        "!unzip test_file.zip"
      ],
      "execution_count": 32,
      "outputs": [
        {
          "output_type": "stream",
          "text": [
            "--2019-05-02 04:53:55--  http://courses.engr.illinois.edu/cs498aml/sp2019/homeworks/test_file.zip\n",
            "Resolving courses.engr.illinois.edu (courses.engr.illinois.edu)... 130.126.151.9\n",
            "Connecting to courses.engr.illinois.edu (courses.engr.illinois.edu)|130.126.151.9|:80... connected.\n",
            "HTTP request sent, awaiting response... 301 Moved Permanently\n",
            "Location: https://courses.engr.illinois.edu/cs498aml/sp2019/homeworks/test_file.zip [following]\n",
            "--2019-05-02 04:53:56--  https://courses.engr.illinois.edu/cs498aml/sp2019/homeworks/test_file.zip\n",
            "Connecting to courses.engr.illinois.edu (courses.engr.illinois.edu)|130.126.151.9|:443... connected.\n",
            "HTTP request sent, awaiting response... 200 OK\n",
            "Length: 3841776 (3.7M) [application/x-zip-compressed]\n",
            "Saving to: ‘test_file.zip’\n",
            "\n",
            "test_file.zip       100%[===================>]   3.66M  5.06MB/s    in 0.7s    \n",
            "\n",
            "2019-05-02 04:53:56 (5.06 MB/s) - ‘test_file.zip’ saved [3841776/3841776]\n",
            "\n",
            "Archive:  test_file.zip\n",
            "  inflating: test_file.pt            \n"
          ],
          "name": "stdout"
        }
      ]
    },
    {
      "metadata": {
        "colab_type": "text",
        "id": "7g5caFPreMLT"
      },
      "cell_type": "markdown",
      "source": [
        "Then use your model to predict the label of the test images. Fill the remaining code below, where x has two dimensions (batch_size x one image size). Remember to reshpe x accordingly before feeding it into your model. The submission.txt should contain one predicted label (0~9) each line. Submit your submission.txt to the competition in gradscope."
      ]
    },
    {
      "metadata": {
        "colab_type": "code",
        "id": "yNdYAH9XeLlb",
        "colab": {}
      },
      "cell_type": "code",
      "source": [
        "import torch.utils.data as Data\n",
        "\n",
        "test_file = 'test_file.pt'\n",
        "pred_file = 'submission.txt'\n",
        "\n",
        "f_pred = open(pred_file,'w') \n",
        "tensor = torch.load(test_file)\n",
        "torch_dataset = Data.TensorDataset(tensor)  \n",
        "test_loader = torch.utils.data.DataLoader(torch_dataset, batch_size, shuffle=False, num_workers=2)\n",
        "\n",
        "model.eval()\n",
        "with torch.no_grad():\n",
        "  for ele in test_loader:\n",
        "      x = ele[0]\n",
        "      image = x.reshape(-1,3,32,32)\n",
        "      image = image.to(device)\n",
        "      preds = model(image)\n",
        "      \n",
        "      pred_labels = torch.argmax(preds, dim=1)\n",
        "      for pred_label in pred_labels:\n",
        "        f_pred.write(str(pred_label.item()))\n",
        "        f_pred.write('\\n')\n",
        "\n",
        "f_pred.close()"
      ],
      "execution_count": 0,
      "outputs": []
    },
    {
      "metadata": {
        "colab_type": "text",
        "id": "8-L6F0CMqc-A"
      },
      "cell_type": "markdown",
      "source": [
        "\n",
        "# Report\n",
        "\n",
        "## Part 0: Imports and Basic Setup (5 Points)\n",
        "Nothing to report for this part. You will be just scored for finishing the setup.\n",
        "\n",
        "## Part 1: Fully connected neural networks (25 Points)\n",
        "\n",
        "Test (on validation set) accuracy (5 Points): 0.39\n",
        "\n",
        "Test loss (5 Points): 1.70\n",
        "\n",
        "Training time (5 Points): 85.6s\n",
        "\n",
        "\n",
        "Plots:\n",
        "\n",
        "- Plot a graph of accuracy on validation set vs training steps (5 Points)\n",
        "\n",
        "- Plot a graph of loss on validation set vs training steps (5 Points)\n",
        "\n",
        "\n",
        "## Part 2: Convolution Network (Basic) (35 Points)\n",
        "\n",
        "Tensor dimensions: A good way to debug your network for size mismatches is to print the dimension of output after every layers:\n",
        "\n",
        "(10 Points)\n",
        "\n",
        "Output dimension after 1st conv layer: (8,16, 32, 32)\n",
        "\n",
        "Output dimension after 1st max pooling: (8, 16, 16, 16)\n",
        "\n",
        "Output dimension after 2nd conv layer: (8,16, 16, 16)\n",
        "\n",
        "Output dimension after flatten layer: (8, 4096)\n",
        "\n",
        "Output dimension after 1st fully connected layer: (8,64)\n",
        "\n",
        "Output dimension after 2nd fully connected layer: (8,10)\n",
        "\n",
        "\n",
        "Test (on validation set) Accuracy (5 Points): 0.55\n",
        "\n",
        "Test loss (5 Points): 1.25\n",
        "\n",
        "Training time (5 Points): 128.4s\n",
        "\n",
        "\n",
        "Plots:\n",
        "\n",
        "- Plot a graph of accuracy on validation set vs training steps (5 Points)\n",
        "\n",
        "- Plot a graph of loss on validation set vs training steps (5 Points)\n",
        "\n",
        "\n",
        "\n",
        "## Part 3: Convolution Network (Add one or more  suggested changes) (35 Points)\n",
        "\n",
        "Describe the additional changes implemented, your intuition for as to why it works, you may also describe other approaches you experimented with (10 Points):\n",
        "\n",
        "We experimented with various parameters and concluded a final model:\n",
        "\n",
        "  TEST MODEL1: Added 2 additional convolutional layers(total 4) with 16 output channels each because it will extract more subtle features from the image. Added maxpool(2) after each convolutional layer, dropout with probability of 0.2 after the last convolutional layer and batch normalization. Increased epochs to 10. Changed Optimizer from RMSprop to SGD. This gave the test accuracy ~ 64%\n",
        "  \n",
        "  TEST MODEL 2: Modified TEST MODEL 1 by changing output channels to 32 in all convolutional layers. This gave the test accuracy ~ 72%\n",
        "  \n",
        "TEST MODEL 3: Modified TEST MODEL 2 dropout rate from 0.2 to 0.4. This gave the test accuracy ~ 71%\n",
        "\n",
        "FINAL MODEL: Modified TEST MODEL 2 by changing output channels to 128. This gave the test accuracy ~ 79%\n",
        "\n",
        "Test (on validation set) Accuracy (5 Points): 0.79\n",
        "\n",
        "Test loss (5 Points): 0.62\n",
        "\n",
        "Training time (5 Points):  324.5s\n",
        "\n",
        "\n",
        "Plots:\n",
        "\n",
        "- Plot a graph of accuracy on validation set vs training steps (5 Points)\n",
        "\n",
        "- Plot a graph of loss on validation set vs training steps (5 Points)\n",
        "\n",
        "10 bonus points will be awarded to top 3 scorers on leaderboard (in case of tie for 3rd position everyone tied for 3rd position will get the bonus)"
      ]
    },
    {
      "metadata": {
        "id": "cMpXJT3p1tjB",
        "colab_type": "code",
        "colab": {}
      },
      "cell_type": "code",
      "source": [
        ""
      ],
      "execution_count": 0,
      "outputs": []
    }
  ]
}